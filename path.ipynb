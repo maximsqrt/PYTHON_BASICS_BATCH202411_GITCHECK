{
 "cells": [
  {
   "cell_type": "markdown",
   "metadata": {},
   "source": [
    "\n",
    "\n",
    "### Was ist der Python-Suchpfad?\n",
    "\n",
    "Der Python-Suchpfad (Python path) ist eine Umgebungsvariable (`sys.path`), die eine Liste von Verzeichnissen enthält. Wenn du ein Python-Modul importierst, sucht Python in diesen Verzeichnissen nach dem entsprechenden Modul. Standardmäßig beinhaltet `sys.path` das Verzeichnis des ausgeführten Skripts und die Standardbibliotheken.\n",
    "\n",
    "### Warum muss man den Suchpfad anpassen?\n",
    "\n",
    "In vielen Projekten sind Module über mehrere Verzeichnisse verteilt. Wenn du ein Modul aus einem anderen Verzeichnis als dem des ausgeführten Skripts importieren möchtest, muss Python wissen, wo es dieses Modul finden kann. Durch Hinzufügen des entsprechenden Verzeichnisses zum Python-Suchpfad kann Python die Importanweisungen für Module aus diesem Verzeichnis auflösen.\n",
    "\n",
    "### Schritt-für-Schritt-Erklärung des Codes:\n",
    "\n",
    "1. **Ermittlung des aktuellen Verzeichnisses des Skripts:**\n",
    "   ```python\n",
    "   current_dir = os.path.dirname(os.path.abspath(__file__))\n",
    "   ```\n",
    "   - `__file__` ist eine spezielle Variable, die den Pfad zur aktuellen Datei (d.h. zum Skript, in dem dieser Code steht) enthält.\n",
    "   - `os.path.abspath(__file__)` wandelt diesen Pfad in einen absoluten Pfad um. Das ist nützlich, weil `__file__` manchmal einen relativen Pfad zurückgeben könnte.\n",
    "   - `os.path.dirname()` gibt das Verzeichnis zurück, das den angegebenen Pfad enthält. Angewendet auf den absoluten Pfad der aktuellen Datei ergibt das das Verzeichnis, in dem sich das Skript befindet.\n",
    "\n",
    "2. **Ermittlung des Wurzelverzeichnisses des Projekts:**\n",
    "   ```python\n",
    "   root_dir = os.path.dirname(current_dir)\n",
    "   ```\n",
    "   - Hier wird `os.path.dirname()` erneut verwendet, diesmal auf `current_dir`. Da `current_dir` das Verzeichnis des Skripts ist, ergibt der Aufruf von `os.path.dirname(current_dir)` das übergeordnete Verzeichnis – also das Wurzelverzeichnis des Projekts, wenn das Skript sich in einem Unterordner des Wurzelverzeichnisses befindet.\n",
    "\n",
    "3. **Hinzufügen des Wurzelverzeichnisses zum Python-Suchpfad:**\n",
    "   ```python\n",
    "   sys.path.append(root_dir)\n",
    "   ```\n",
    "   - `sys.path` ist eine Liste, die alle Pfade enthält, in denen Python nach Modulen sucht. Mit `append()` fügst du `root_dir` zu dieser Liste hinzu. Das ermöglicht es Python, Module aus dem Wurzelverzeichnis zu importieren, selbst wenn das aktuelle Skript in einem Unterordner liegt.\n",
    "\n",
    "### Praktisches Beispiel\n",
    "\n",
    "Angenommen, dein Projektverzeichnis sieht so aus:\n",
    "\n",
    "```\n",
    "project_name/\n",
    "│\n",
    "├── lib/\n",
    "│   ├── tools.py\n",
    "│\n",
    "└── unittest/\n",
    "    ├── test_tools.py\n",
    "```\n",
    "\n",
    "Wenn du in `test_tools.py` ein Modul aus `lib` importieren möchtest, muss Python wissen, dass es im Verzeichnis `project_name/` nach weiteren Modulen suchen soll. Der oben beschriebene Code leistet genau das: Er sagt Python, wo es nach dem Modul `tools.py` suchen soll.\n",
    "\n",
    "Durch diese Methode kann dein Projekt flexibel und erweiterbar strukturiert werden, ohne dass du auf eine bestimmte Ausführungsumgebung oder IDE angewiesen bist, die den Suchpfad für dich setzt."
   ]
  }
 ],
 "metadata": {
  "language_info": {
   "name": "python"
  }
 },
 "nbformat": 4,
 "nbformat_minor": 2
}
